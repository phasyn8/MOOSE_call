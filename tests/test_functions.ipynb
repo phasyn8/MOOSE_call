{
 "cells": [
  {
   "cell_type": "code",
   "execution_count": 1,
   "metadata": {},
   "outputs": [],
   "source": [
    "import numpy as np\n",
    "import sys\n"
   ]
  },
  {
   "cell_type": "code",
   "execution_count": 74,
   "metadata": {},
   "outputs": [],
   "source": [
    "def make_LOG_entry(meshLOG, meshLogCols, meshLogData):\n",
    "        #logEntry = res = dict(map(lambda i,j : (i,j) , meshLogCols , meshLogData))\n",
    "        #meshLOG = pd.DataFrame(columns=meshLogCols)\n",
    "        #meshLOG.jo(pd.DataFrame(logEntry))\n",
    "        colEntry = []\n",
    "        #colEntry.append(meshLogCols)\n",
    "        colEntry.append(meshLogData)\n",
    "        meshLOG = pd.concat((meshLOG, pd.DataFrame(colEntry, columns=meshLogCols)))\n",
    "        outputmeshLOG = pd.DataFrame(colEntry, columns=meshLogCols)\n",
    "        #print(outputmeshLOG)\n",
    "        return meshLOG"
   ]
  },
  {
   "cell_type": "code",
   "execution_count": 17,
   "metadata": {},
   "outputs": [
    {
     "ename": "AttributeError",
     "evalue": "'dict_items' object has no attribute 'key'",
     "output_type": "error",
     "traceback": [
      "\u001b[0;31m---------------------------------------------------------------------------\u001b[0m",
      "\u001b[0;31mAttributeError\u001b[0m                            Traceback (most recent call last)",
      "Cell \u001b[0;32mIn[17], line 4\u001b[0m\n\u001b[1;32m      1\u001b[0m density_dict \u001b[38;5;241m=\u001b[39m {\u001b[38;5;124m\"\u001b[39m\u001b[38;5;124mbasement\u001b[39m\u001b[38;5;124m\"\u001b[39m: [\u001b[38;5;124m\"\u001b[39m\u001b[38;5;124m2600\u001b[39m\u001b[38;5;124m\"\u001b[39m, \u001b[38;5;124m'\u001b[39m\u001b[38;5;124m2 6 9 10\u001b[39m\u001b[38;5;124m'\u001b[39m], \u001b[38;5;124m\"\u001b[39m\u001b[38;5;124msediments\u001b[39m\u001b[38;5;124m\"\u001b[39m: [\u001b[38;5;124m\"\u001b[39m\u001b[38;5;124m2300\u001b[39m\u001b[38;5;124m\"\u001b[39m, \u001b[38;5;124m'\u001b[39m\u001b[38;5;124m4 8 11 12\u001b[39m\u001b[38;5;124m'\u001b[39m]}\n\u001b[1;32m      3\u001b[0m items \u001b[38;5;241m=\u001b[39m density_dict\u001b[38;5;241m.\u001b[39mitems()\n\u001b[0;32m----> 4\u001b[0m \u001b[43mitems\u001b[49m\u001b[38;5;241;43m.\u001b[39;49m\u001b[43mkey\u001b[49m[\u001b[38;5;241m0\u001b[39m]\n",
      "\u001b[0;31mAttributeError\u001b[0m: 'dict_items' object has no attribute 'key'"
     ]
    }
   ],
   "source": [
    "density_dict = {\"basement\": [\"2600\", '2 6 9 10'], \"sediments\": [\"2300\", '4 8 11 12']}\n",
    "\n",
    "items = density_dict.items()"
   ]
  },
  {
   "cell_type": "markdown",
   "metadata": {},
   "source": []
  },
  {
   "cell_type": "code",
   "execution_count": 51,
   "metadata": {},
   "outputs": [
    {
     "data": {
      "text/plain": [
       "\"\\n                    [densitybasement]\\n                        type = GenericConstantMaterial\\n                        prop_names = 'density'\\n                        block =  2 6 9 10 \\n                        prop_values = 2600 \\n                    []\\n                    \\n\\n                    [densitysediments]\\n                        type = GenericConstantMaterial\\n                        prop_names = 'density'\\n                        block =  4 8 11 12 \\n                        prop_values = 2300 \\n                    []\\n                    \""
      ]
     },
     "execution_count": 51,
     "metadata": {},
     "output_type": "execute_result"
    }
   ],
   "source": [
    "density_list =[]\n",
    "for key, value, in density_dict.items():\n",
    "    density_list.append(f\"\"\"\n",
    "                    [density{key}]\n",
    "                        type = GenericConstantMaterial\n",
    "                        prop_names = 'density'\n",
    "                        block =  {value[1]} \n",
    "                        prop_values = {value[0]} \n",
    "                    []\n",
    "                    \"\"\") \n",
    "#density_list[0]\n",
    "#for i in density_list:\n",
    "#    print(f'{i}')\n",
    "\n",
    "string_list = \"\\n\".join(density_list)\n",
    "f'{string_list}'"
   ]
  },
  {
   "cell_type": "code",
   "execution_count": 61,
   "metadata": {},
   "outputs": [
    {
     "data": {
      "text/plain": [
       "\"    \\n        [Materials]\\n\\n        [elasticity_tensor]\\n            type = ComputeIsotropicElasticityTensor\\n            youngs_modulus = 1e12 # \\n            #bulk_modulus = 0.4e6\\n            poissons_ratio = 1E-6 #  \\n            compute=true\\n            block = '2 4 6 8 9 10 11 12 15 16 17'\\n        []\\n        \\n                    [densitybasement]\\n                        type = GenericConstantMaterial\\n                        prop_names = 'density'\\n                        block =  2 6 9 10 \\n                        prop_values = 2600 \\n                    []\\n                    \\n\\n                    [densitysediments]\\n                        type = GenericConstantMaterial\\n                        prop_names = 'density'\\n                        block =  4 8 11 12 \\n                        prop_values = 2300 \\n                    []\\n                    \\n        [stress]\\n        type = ComputeLinearElasticStress\\n        block= '2 4 6 8 9 10 11 12 15 16 17'\\n        []\\n\\n        [ini_stress]\\n              type = ComputeEigenstrainFromInitialStress\\n              eigenstrain_name = ini_stress\\n        \\n            #Initial stress scenario, initial stress tensor is calculated as a factor of vertical gravitational stress\\n                initial_stress = '1 1 1 1 1 1 1 1 1'\\n                initial_stress_aux = 'initStressXX initStressXY initStressXZ initStressYX initStressYY initStressYZ initStressZX initStressZY initStressZZ'\\n                block = '2 4 6 8 9 10 11 12 15 16 17'\\n        [] \\n\\n\\n    \""
      ]
     },
     "execution_count": 61,
     "metadata": {},
     "output_type": "execute_result"
    }
   ],
   "source": [
    "def preDensity_materials_Blk(density_dict={}):\n",
    "        density_list =[]\n",
    "        for key, value, in density_dict.items():\n",
    "            density_list.append(f\"\"\"\n",
    "                    [density{key}]\n",
    "                        type = GenericConstantMaterial\n",
    "                        prop_names = 'density'\n",
    "                        block =  {value[1]} \n",
    "                        prop_values = {value[0]} \n",
    "                    []\n",
    "                    \"\"\")\n",
    "        density_block = \"\\n\".join(density_list)\n",
    "                            \n",
    "        \n",
    "        materialBlock = f\"\"\"    \n",
    "        [Materials]\n",
    "\n",
    "        [elasticity_tensor]\n",
    "            type = ComputeIsotropicElasticityTensor\n",
    "            youngs_modulus = 1e12 # \n",
    "            #bulk_modulus = 0.4e6\n",
    "            poissons_ratio = 1E-6 #  \n",
    "            compute=true\n",
    "            block = '2 4 6 8 9 10 11 12 15 16 17'\n",
    "        []\n",
    "        {density_block}\n",
    "        [stress]\n",
    "        type = ComputeLinearElasticStress\n",
    "        block= '2 4 6 8 9 10 11 12 15 16 17'\n",
    "        []\n",
    "\n",
    "        [ini_stress]\n",
    "              type = ComputeEigenstrainFromInitialStress\n",
    "              eigenstrain_name = ini_stress\n",
    "        \n",
    "            #Initial stress scenario, initial stress tensor is calculated as a factor of vertical gravitational stress\n",
    "                initial_stress = '1 1 1 1 1 1 1 1 1'\n",
    "                initial_stress_aux = 'initStressXX initStressXY initStressXZ initStressYX initStressYY initStressYZ initStressZX initStressZY initStressZZ'\n",
    "                block = '2 4 6 8 9 10 11 12 15 16 17'\n",
    "        [] \n",
    "\n",
    "\n",
    "    \"\"\"\n",
    "        return materialBlock\n",
    "str = preDensity_materials_Blk(density_dict=density_dict)\n",
    "str"
   ]
  },
  {
   "cell_type": "code",
   "execution_count": null,
   "metadata": {},
   "outputs": [],
   "source": [
    "def preDensity_materials_Blk(self, density_dict={}):\n",
    "        density_list =[]\n",
    "        for key, value, in density_dict.items():\n",
    "            density_list.append(f\"\"\"\n",
    "                    [density{key}]\n",
    "                        type = GenericConstantMaterial\n",
    "                        prop_names = 'density'\n",
    "                        block =  {value[1]} \n",
    "                        prop_values = {value[0]} \n",
    "                    []\n",
    "                    \"\"\")\n",
    "        density_block = \"\\n\".join(density_list)\n",
    "                            \n",
    "        \n",
    "        self.materialBlock = f\"\"\"    \n",
    "        [Materials]\n",
    "\n",
    "        [elasticity_tensor]\n",
    "            type = ComputeIsotropicElasticityTensor\n",
    "            youngs_modulus = 1e12 # \n",
    "            #bulk_modulus = 0.4e6\n",
    "            poissons_ratio = 1E-6 #  \n",
    "            compute=true\n",
    "            block = {self.all_meshBlocks}'2 4 6 8 9 10 11 12 15 16 17'\n",
    "        []\n",
    "\n",
    "        {density_block} \n",
    "\n",
    "        [stress]\n",
    "        type = ComputeLinearElasticStress\n",
    "        block= '2 4 6 8 9 10 11 12 15 16 17'\n",
    "        []\n",
    "\n",
    "        [ini_stress]\n",
    "              type = ComputeEigenstrainFromInitialStress\n",
    "              eigenstrain_name = ini_stress\n",
    "        \n",
    "            #Initial stress scenario, initial stress tensor is calculated as a factor of vertical gravitational stress\n",
    "                initial_stress = '1 1 1 1 1 1 1 1 1'\n",
    "                initial_stress_aux = 'initStressXX initStressXY initStressXZ initStressYX initStressYY initStressYZ initStressZX initStressZY initStressZZ'\n",
    "                block = '2 4 6 8 9 10 11 12 15 16 17'\n",
    "        [] \n",
    "\n",
    "\n",
    "    \"\"\""
   ]
  },
  {
   "cell_type": "code",
   "execution_count": 63,
   "metadata": {},
   "outputs": [
    {
     "name": "stdout",
     "output_type": "stream",
     "text": [
      "Successfully exported MOOSE input file testmoose.i to ./\n"
     ]
    }
   ],
   "source": [
    "def moosebuilder(str=str):\n",
    "        \n",
    "        \"\"\"\n",
    "        Combines the input blocks into an outpu file \n",
    "        \"\"\"\n",
    "        \n",
    "        \n",
    "        # Input Builder\n",
    "\n",
    "        MOOSE_input = f\"\"\"\n",
    "       \n",
    "        {str}\n",
    "        \n",
    "        \"\"\"\n",
    "        f = open('./test_mat_moose.i', 'w+')\n",
    "            \n",
    "        f.write(MOOSE_input)\n",
    "        f.close()\n",
    "            \n",
    "        print(f\"Successfully exported MOOSE input file testmoose.i to ./\")\n",
    "\n",
    "moosebuilder(str=str)"
   ]
  },
  {
   "cell_type": "code",
   "execution_count": 67,
   "metadata": {},
   "outputs": [
    {
     "data": {
      "text/plain": [
       "'1.0'"
      ]
     },
     "execution_count": 67,
     "metadata": {},
     "output_type": "execute_result"
    }
   ],
   "source": [
    "K_XX, K_XY, K_XZ, K_YX, K_YY, K_YZ, K_ZX, K_ZY, K_ZZ = np.eye(3).ravel()\n",
    "\n",
    "f'{K_YY}'"
   ]
  },
  {
   "cell_type": "code",
   "execution_count": 101,
   "metadata": {},
   "outputs": [
    {
     "data": {
      "text/html": [
       "<div>\n",
       "<style scoped>\n",
       "    .dataframe tbody tr th:only-of-type {\n",
       "        vertical-align: middle;\n",
       "    }\n",
       "\n",
       "    .dataframe tbody tr th {\n",
       "        vertical-align: top;\n",
       "    }\n",
       "\n",
       "    .dataframe thead th {\n",
       "        text-align: right;\n",
       "    }\n",
       "</style>\n",
       "<table border=\"1\" class=\"dataframe\">\n",
       "  <thead>\n",
       "    <tr style=\"text-align: right;\">\n",
       "      <th></th>\n",
       "      <th>MeshVersion</th>\n",
       "      <th>mesh path</th>\n",
       "      <th>MooseMeshBlock input path</th>\n",
       "      <th>MOOSE input filepath</th>\n",
       "      <th>Devonian Volumes</th>\n",
       "      <th>ZeelandFm Volumes</th>\n",
       "      <th>Namurian Volumes</th>\n",
       "      <th>NorthSeaGroup Volumes</th>\n",
       "      <th>Zeeland_Base Surface_Elements</th>\n",
       "      <th>Namurian_Base Surface_Elements</th>\n",
       "      <th>...</th>\n",
       "      <th>Viersen Fault_Elements</th>\n",
       "      <th>West Boundary_Elements</th>\n",
       "      <th>East Boundary_Elements</th>\n",
       "      <th>South Boundary_Elements</th>\n",
       "      <th>North Boundary_Elements</th>\n",
       "      <th>Base Boundary_Elements</th>\n",
       "      <th>Top Boundary_Elements</th>\n",
       "      <th>Sv ratio K_SHMax</th>\n",
       "      <th>Sv ratio k_Shmin</th>\n",
       "      <th>Azimuth SHMax</th>\n",
       "    </tr>\n",
       "  </thead>\n",
       "  <tbody>\n",
       "    <tr>\n",
       "      <th>0</th>\n",
       "      <td>MeshVersion</td>\n",
       "      <td>mesh path</td>\n",
       "      <td>MooseMeshBlock input path</td>\n",
       "      <td>MOOSE input filepath</td>\n",
       "      <td>_Devonian Volumes</td>\n",
       "      <td>_ZeelandFm Volumes</td>\n",
       "      <td>_Namurian Volumes</td>\n",
       "      <td>_NorthSeaGroup Volumes</td>\n",
       "      <td>_Zeeland_Base Surface_Elements</td>\n",
       "      <td>_Namurian_Base Surface_Elements</td>\n",
       "      <td>...</td>\n",
       "      <td>_Viersen Fault_Elements</td>\n",
       "      <td>_West Boundary_Elements</td>\n",
       "      <td>_East Boundary_Elements</td>\n",
       "      <td>_South Boundary_Elements</td>\n",
       "      <td>_North Boundary_Elements</td>\n",
       "      <td>_Base Boundary_Elements</td>\n",
       "      <td>_Top Boundary_Elements</td>\n",
       "      <td>Sv ratio K_SHMax</td>\n",
       "      <td>Sv ratio k_Shmin</td>\n",
       "      <td>Azimuth SHMax</td>\n",
       "    </tr>\n",
       "  </tbody>\n",
       "</table>\n",
       "<p>1 rows × 24 columns</p>\n",
       "</div>"
      ],
      "text/plain": [
       "   MeshVersion  mesh path  MooseMeshBlock input path  MOOSE input filepath  \\\n",
       "0  MeshVersion  mesh path  MooseMeshBlock input path  MOOSE input filepath   \n",
       "\n",
       "    Devonian Volumes   ZeelandFm Volumes   Namurian Volumes  \\\n",
       "0  _Devonian Volumes  _ZeelandFm Volumes  _Namurian Volumes   \n",
       "\n",
       "    NorthSeaGroup Volumes   Zeeland_Base Surface_Elements  \\\n",
       "0  _NorthSeaGroup Volumes  _Zeeland_Base Surface_Elements   \n",
       "\n",
       "    Namurian_Base Surface_Elements  ...   Viersen Fault_Elements  \\\n",
       "0  _Namurian_Base Surface_Elements  ...  _Viersen Fault_Elements   \n",
       "\n",
       "    West Boundary_Elements   East Boundary_Elements   South Boundary_Elements  \\\n",
       "0  _West Boundary_Elements  _East Boundary_Elements  _South Boundary_Elements   \n",
       "\n",
       "    North Boundary_Elements   Base Boundary_Elements   Top Boundary_Elements  \\\n",
       "0  _North Boundary_Elements  _Base Boundary_Elements  _Top Boundary_Elements   \n",
       "\n",
       "   Sv ratio K_SHMax  Sv ratio k_Shmin  Azimuth SHMax  \n",
       "0  Sv ratio K_SHMax  Sv ratio k_Shmin  Azimuth SHMax  \n",
       "\n",
       "[1 rows x 24 columns]"
      ]
     },
     "execution_count": 101,
     "metadata": {},
     "output_type": "execute_result"
    }
   ],
   "source": [
    "import pandas as pd\n",
    "\n",
    "meshLogCols =['MeshVersion', 'mesh path', 'MooseMeshBlock input path', 'MOOSE input filepath', \n",
    "                'Devonian Volumes', 'ZeelandFm Volumes', 'Namurian Volumes', 'NorthSeaGroup Volumes',\n",
    "                'Zeeland_Base Surface_Elements', 'Namurian_Base Surface_Elements', 'NSG_Base Surface_Elements', \n",
    "                'Belfeld Fault_Elements', 'Tegelen Fault_Elements',  'Dulkener Fault_Elements', 'Viersen Fault_Elements', \n",
    "                'West Boundary_Elements', 'East Boundary_Elements', 'South Boundary_Elements', 'North Boundary_Elements', 'Base Boundary_Elements', 'Top Boundary_Elements',\n",
    "                'Sv ratio K_SHMax', 'Sv ratio k_Shmin', 'Azimuth SHMax' ]\n",
    "meshLogData =['MeshVersion', 'mesh path', 'MooseMeshBlock input path', 'MOOSE input filepath', \n",
    "                '_Devonian Volumes', '_ZeelandFm Volumes', '_Namurian Volumes', '_NorthSeaGroup Volumes',\n",
    "                '_Zeeland_Base Surface_Elements', '_Namurian_Base Surface_Elements', '_NSG_Base Surface_Elements', \n",
    "                'Belfeld Fault_Elements', '_Tegelen Fault_Elements',  '_Dulkener Fault_Elements', '_Viersen Fault_Elements', \n",
    "                '_West Boundary_Elements', '_East Boundary_Elements', '_South Boundary_Elements', '_North Boundary_Elements', '_Base Boundary_Elements', '_Top Boundary_Elements',\n",
    "                'Sv ratio K_SHMax', 'Sv ratio k_Shmin', 'Azimuth SHMax' ]\n",
    "meshLOG = pd.DataFrame(None, columns=meshLogCols)\n",
    "meshLOG = make_LOG_entry(meshLOG, meshLogCols, meshLogData)\n",
    "meshLOG\n"
   ]
  },
  {
   "cell_type": "code",
   "execution_count": 106,
   "metadata": {},
   "outputs": [
    {
     "data": {
      "text/html": [
       "<div>\n",
       "<style scoped>\n",
       "    .dataframe tbody tr th:only-of-type {\n",
       "        vertical-align: middle;\n",
       "    }\n",
       "\n",
       "    .dataframe tbody tr th {\n",
       "        vertical-align: top;\n",
       "    }\n",
       "\n",
       "    .dataframe thead th {\n",
       "        text-align: right;\n",
       "    }\n",
       "</style>\n",
       "<table border=\"1\" class=\"dataframe\">\n",
       "  <thead>\n",
       "    <tr style=\"text-align: right;\">\n",
       "      <th></th>\n",
       "      <th>Devonian Volumes</th>\n",
       "      <th>ZeelandFm Volumes</th>\n",
       "      <th>Namurian Volumes</th>\n",
       "      <th>NorthSeaGroup Volumes</th>\n",
       "    </tr>\n",
       "  </thead>\n",
       "  <tbody>\n",
       "    <tr>\n",
       "      <th>0</th>\n",
       "      <td>_Devonian Volumes</td>\n",
       "      <td>_ZeelandFm Volumes</td>\n",
       "      <td>_Namurian Volumes</td>\n",
       "      <td>_NorthSeaGroup Volumes</td>\n",
       "    </tr>\n",
       "  </tbody>\n",
       "</table>\n",
       "</div>"
      ],
      "text/plain": [
       "    Devonian Volumes   ZeelandFm Volumes   Namurian Volumes  \\\n",
       "0  _Devonian Volumes  _ZeelandFm Volumes  _Namurian Volumes   \n",
       "\n",
       "    NorthSeaGroup Volumes  \n",
       "0  _NorthSeaGroup Volumes  "
      ]
     },
     "execution_count": 106,
     "metadata": {},
     "output_type": "execute_result"
    }
   ],
   "source": [
    "meshLOG.loc[:,meshLOG.columns.str.contains(\"Volumes\")]"
   ]
  },
  {
   "cell_type": "code",
   "execution_count": 114,
   "metadata": {},
   "outputs": [
    {
     "data": {
      "text/plain": [
       "['Devonian Volumes',\n",
       " 'ZeelandFm Volumes',\n",
       " 'Namurian Volumes',\n",
       " 'NorthSeaGroup Volumes']"
      ]
     },
     "execution_count": 114,
     "metadata": {},
     "output_type": "execute_result"
    }
   ],
   "source": [
    "vol_list = meshLOG.loc[:, meshLOG.columns.str.contains(\"Volumes\")].columns.tolist()\n",
    "meshLOG[vol_list]\n",
    "\n",
    "vol_list"
   ]
  },
  {
   "cell_type": "code",
   "execution_count": 100,
   "metadata": {},
   "outputs": [
    {
     "data": {
      "text/plain": [
       "[['Zeeland_Base Surface_Elements',\n",
       "  'Namurian_Base Surface_Elements',\n",
       "  'NSG_Base Surface_Elements']]"
      ]
     },
     "execution_count": 100,
     "metadata": {},
     "output_type": "execute_result"
    }
   ],
   "source": [
    "fault_list = meshLOG.loc[:, meshLOG.columns.str.contains(\"Fault_Elements\")].columns.tolist()\n",
    "fault_names = [item.split(' ')[0] for item in fault_list[0]]\n",
    "\n",
    "surface_list = meshLOG.loc[:, meshLOG.columns.str.contains(\"Surface_Elements\")].columns.tolist()\n",
    "surface_names = [item.split(' ')[0] for item in surface_list[0]]\n"
   ]
  },
  {
   "cell_type": "code",
   "execution_count": 123,
   "metadata": {},
   "outputs": [
    {
     "name": "stdout",
     "output_type": "stream",
     "text": [
      "1000\n",
      "1001\n",
      "1002\n",
      "1003\n",
      "1004\n",
      "1005\n",
      "1006\n",
      "1007\n",
      "1008\n",
      "1009\n"
     ]
    }
   ],
   "source": [
    "current_blockID = 1000\n",
    "\n",
    "for i in range(10):\n",
    "    print(current_blockID)\n",
    "    current_blockID = current_blockID+1"
   ]
  },
  {
   "cell_type": "code",
   "execution_count": null,
   "metadata": {},
   "outputs": [],
   "source": [
    ":"
   ]
  }
 ],
 "metadata": {
  "kernelspec": {
   "display_name": "gp_u",
   "language": "python",
   "name": "python3"
  },
  "language_info": {
   "codemirror_mode": {
    "name": "ipython",
    "version": 3
   },
   "file_extension": ".py",
   "mimetype": "text/x-python",
   "name": "python",
   "nbconvert_exporter": "python",
   "pygments_lexer": "ipython3",
   "version": "3.13.1"
  }
 },
 "nbformat": 4,
 "nbformat_minor": 2
}
