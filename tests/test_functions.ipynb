{
 "cells": [
  {
   "cell_type": "code",
   "execution_count": 1,
   "metadata": {},
   "outputs": [],
   "source": [
    "import numpy as np\n",
    "import sys\n"
   ]
  },
  {
   "cell_type": "code",
   "execution_count": 17,
   "metadata": {},
   "outputs": [
    {
     "ename": "AttributeError",
     "evalue": "'dict_items' object has no attribute 'key'",
     "output_type": "error",
     "traceback": [
      "\u001b[0;31m---------------------------------------------------------------------------\u001b[0m",
      "\u001b[0;31mAttributeError\u001b[0m                            Traceback (most recent call last)",
      "Cell \u001b[0;32mIn[17], line 4\u001b[0m\n\u001b[1;32m      1\u001b[0m density_dict \u001b[38;5;241m=\u001b[39m {\u001b[38;5;124m\"\u001b[39m\u001b[38;5;124mbasement\u001b[39m\u001b[38;5;124m\"\u001b[39m: [\u001b[38;5;124m\"\u001b[39m\u001b[38;5;124m2600\u001b[39m\u001b[38;5;124m\"\u001b[39m, \u001b[38;5;124m'\u001b[39m\u001b[38;5;124m2 6 9 10\u001b[39m\u001b[38;5;124m'\u001b[39m], \u001b[38;5;124m\"\u001b[39m\u001b[38;5;124msediments\u001b[39m\u001b[38;5;124m\"\u001b[39m: [\u001b[38;5;124m\"\u001b[39m\u001b[38;5;124m2300\u001b[39m\u001b[38;5;124m\"\u001b[39m, \u001b[38;5;124m'\u001b[39m\u001b[38;5;124m4 8 11 12\u001b[39m\u001b[38;5;124m'\u001b[39m]}\n\u001b[1;32m      3\u001b[0m items \u001b[38;5;241m=\u001b[39m density_dict\u001b[38;5;241m.\u001b[39mitems()\n\u001b[0;32m----> 4\u001b[0m \u001b[43mitems\u001b[49m\u001b[38;5;241;43m.\u001b[39;49m\u001b[43mkey\u001b[49m[\u001b[38;5;241m0\u001b[39m]\n",
      "\u001b[0;31mAttributeError\u001b[0m: 'dict_items' object has no attribute 'key'"
     ]
    }
   ],
   "source": [
    "density_dict = {\"basement\": [\"2600\", '2 6 9 10'], \"sediments\": [\"2300\", '4 8 11 12']}\n",
    "\n",
    "items = density_dict.items()"
   ]
  },
  {
   "cell_type": "markdown",
   "metadata": {},
   "source": []
  },
  {
   "cell_type": "code",
   "execution_count": 51,
   "metadata": {},
   "outputs": [
    {
     "data": {
      "text/plain": [
       "\"\\n                    [densitybasement]\\n                        type = GenericConstantMaterial\\n                        prop_names = 'density'\\n                        block =  2 6 9 10 \\n                        prop_values = 2600 \\n                    []\\n                    \\n\\n                    [densitysediments]\\n                        type = GenericConstantMaterial\\n                        prop_names = 'density'\\n                        block =  4 8 11 12 \\n                        prop_values = 2300 \\n                    []\\n                    \""
      ]
     },
     "execution_count": 51,
     "metadata": {},
     "output_type": "execute_result"
    }
   ],
   "source": [
    "density_list =[]\n",
    "for key, value, in density_dict.items():\n",
    "    density_list.append(f\"\"\"\n",
    "                    [density{key}]\n",
    "                        type = GenericConstantMaterial\n",
    "                        prop_names = 'density'\n",
    "                        block =  {value[1]} \n",
    "                        prop_values = {value[0]} \n",
    "                    []\n",
    "                    \"\"\") \n",
    "#density_list[0]\n",
    "#for i in density_list:\n",
    "#    print(f'{i}')\n",
    "\n",
    "string_list = \"\\n\".join(density_list)\n",
    "f'{string_list}'"
   ]
  },
  {
   "cell_type": "code",
   "execution_count": 61,
   "metadata": {},
   "outputs": [
    {
     "data": {
      "text/plain": [
       "\"    \\n        [Materials]\\n\\n        [elasticity_tensor]\\n            type = ComputeIsotropicElasticityTensor\\n            youngs_modulus = 1e12 # \\n            #bulk_modulus = 0.4e6\\n            poissons_ratio = 1E-6 #  \\n            compute=true\\n            block = '2 4 6 8 9 10 11 12 15 16 17'\\n        []\\n        \\n                    [densitybasement]\\n                        type = GenericConstantMaterial\\n                        prop_names = 'density'\\n                        block =  2 6 9 10 \\n                        prop_values = 2600 \\n                    []\\n                    \\n\\n                    [densitysediments]\\n                        type = GenericConstantMaterial\\n                        prop_names = 'density'\\n                        block =  4 8 11 12 \\n                        prop_values = 2300 \\n                    []\\n                    \\n        [stress]\\n        type = ComputeLinearElasticStress\\n        block= '2 4 6 8 9 10 11 12 15 16 17'\\n        []\\n\\n        [ini_stress]\\n              type = ComputeEigenstrainFromInitialStress\\n              eigenstrain_name = ini_stress\\n        \\n            #Initial stress scenario, initial stress tensor is calculated as a factor of vertical gravitational stress\\n                initial_stress = '1 1 1 1 1 1 1 1 1'\\n                initial_stress_aux = 'initStressXX initStressXY initStressXZ initStressYX initStressYY initStressYZ initStressZX initStressZY initStressZZ'\\n                block = '2 4 6 8 9 10 11 12 15 16 17'\\n        [] \\n\\n\\n    \""
      ]
     },
     "execution_count": 61,
     "metadata": {},
     "output_type": "execute_result"
    }
   ],
   "source": [
    "def preDensity_materials_Blk(density_dict={}):\n",
    "        density_list =[]\n",
    "        for key, value, in density_dict.items():\n",
    "            density_list.append(f\"\"\"\n",
    "                    [density{key}]\n",
    "                        type = GenericConstantMaterial\n",
    "                        prop_names = 'density'\n",
    "                        block =  {value[1]} \n",
    "                        prop_values = {value[0]} \n",
    "                    []\n",
    "                    \"\"\")\n",
    "        density_block = \"\\n\".join(density_list)\n",
    "                            \n",
    "        \n",
    "        materialBlock = f\"\"\"    \n",
    "        [Materials]\n",
    "\n",
    "        [elasticity_tensor]\n",
    "            type = ComputeIsotropicElasticityTensor\n",
    "            youngs_modulus = 1e12 # \n",
    "            #bulk_modulus = 0.4e6\n",
    "            poissons_ratio = 1E-6 #  \n",
    "            compute=true\n",
    "            block = '2 4 6 8 9 10 11 12 15 16 17'\n",
    "        []\n",
    "        {density_block}\n",
    "        [stress]\n",
    "        type = ComputeLinearElasticStress\n",
    "        block= '2 4 6 8 9 10 11 12 15 16 17'\n",
    "        []\n",
    "\n",
    "        [ini_stress]\n",
    "              type = ComputeEigenstrainFromInitialStress\n",
    "              eigenstrain_name = ini_stress\n",
    "        \n",
    "            #Initial stress scenario, initial stress tensor is calculated as a factor of vertical gravitational stress\n",
    "                initial_stress = '1 1 1 1 1 1 1 1 1'\n",
    "                initial_stress_aux = 'initStressXX initStressXY initStressXZ initStressYX initStressYY initStressYZ initStressZX initStressZY initStressZZ'\n",
    "                block = '2 4 6 8 9 10 11 12 15 16 17'\n",
    "        [] \n",
    "\n",
    "\n",
    "    \"\"\"\n",
    "        return materialBlock\n",
    "str = preDensity_materials_Blk(density_dict=density_dict)\n",
    "str"
   ]
  },
  {
   "cell_type": "code",
   "execution_count": null,
   "metadata": {},
   "outputs": [],
   "source": [
    "def preDensity_materials_Blk(self, density_dict={}):\n",
    "        density_list =[]\n",
    "        for key, value, in density_dict.items():\n",
    "            density_list.append(f\"\"\"\n",
    "                    [density{key}]\n",
    "                        type = GenericConstantMaterial\n",
    "                        prop_names = 'density'\n",
    "                        block =  {value[1]} \n",
    "                        prop_values = {value[0]} \n",
    "                    []\n",
    "                    \"\"\")\n",
    "        density_block = \"\\n\".join(density_list)\n",
    "                            \n",
    "        \n",
    "        self.materialBlock = f\"\"\"    \n",
    "        [Materials]\n",
    "\n",
    "        [elasticity_tensor]\n",
    "            type = ComputeIsotropicElasticityTensor\n",
    "            youngs_modulus = 1e12 # \n",
    "            #bulk_modulus = 0.4e6\n",
    "            poissons_ratio = 1E-6 #  \n",
    "            compute=true\n",
    "            block = {self.all_meshBlocks}'2 4 6 8 9 10 11 12 15 16 17'\n",
    "        []\n",
    "\n",
    "        {density_block} \n",
    "\n",
    "        [stress]\n",
    "        type = ComputeLinearElasticStress\n",
    "        block= '2 4 6 8 9 10 11 12 15 16 17'\n",
    "        []\n",
    "\n",
    "        [ini_stress]\n",
    "              type = ComputeEigenstrainFromInitialStress\n",
    "              eigenstrain_name = ini_stress\n",
    "        \n",
    "            #Initial stress scenario, initial stress tensor is calculated as a factor of vertical gravitational stress\n",
    "                initial_stress = '1 1 1 1 1 1 1 1 1'\n",
    "                initial_stress_aux = 'initStressXX initStressXY initStressXZ initStressYX initStressYY initStressYZ initStressZX initStressZY initStressZZ'\n",
    "                block = '2 4 6 8 9 10 11 12 15 16 17'\n",
    "        [] \n",
    "\n",
    "\n",
    "    \"\"\""
   ]
  },
  {
   "cell_type": "code",
   "execution_count": 63,
   "metadata": {},
   "outputs": [
    {
     "name": "stdout",
     "output_type": "stream",
     "text": [
      "Successfully exported MOOSE input file testmoose.i to ./\n"
     ]
    }
   ],
   "source": [
    "def moosebuilder(str=str):\n",
    "        \n",
    "        \"\"\"\n",
    "        Combines the input blocks into an outpu file \n",
    "        \"\"\"\n",
    "        \n",
    "        \n",
    "        # Input Builder\n",
    "\n",
    "        MOOSE_input = f\"\"\"\n",
    "       \n",
    "        {str}\n",
    "        \n",
    "        \"\"\"\n",
    "        f = open('./test_mat_moose.i', 'w+')\n",
    "            \n",
    "        f.write(MOOSE_input)\n",
    "        f.close()\n",
    "            \n",
    "        print(f\"Successfully exported MOOSE input file testmoose.i to ./\")\n",
    "\n",
    "moosebuilder(str=str)"
   ]
  }
 ],
 "metadata": {
  "kernelspec": {
   "display_name": "gp_u",
   "language": "python",
   "name": "python3"
  },
  "language_info": {
   "codemirror_mode": {
    "name": "ipython",
    "version": 3
   },
   "file_extension": ".py",
   "mimetype": "text/x-python",
   "name": "python",
   "nbconvert_exporter": "python",
   "pygments_lexer": "ipython3",
   "version": "3.13.1"
  }
 },
 "nbformat": 4,
 "nbformat_minor": 2
}
